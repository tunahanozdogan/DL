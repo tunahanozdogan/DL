{
 "cells": [
  {
   "cell_type": "code",
   "execution_count": 2,
   "id": "41f137b9",
   "metadata": {},
   "outputs": [],
   "source": [
    "import numpy as np\n",
    "import pandas as pd\n",
    "import matplotlib.pyplot as plt\n",
    "import seaborn as sns\n",
    "\n",
    "import warnings\n",
    "warnings.filterwarnings(\"ignore\")\n",
    "warnings.warn(\"this will not show\")\n",
    "\n",
    "plt.rcParams[\"figure.figsize\"] = (10,6)\n",
    "\n",
    "sns.set_style(\"whitegrid\")\n",
    "pd.set_option('display.float_format', lambda x: '%.3f' % x)\n",
    "\n",
    "# Set it None to display all rows in the dataframe\n",
    "# pd.set_option('display.max_rows', None)\n",
    "\n",
    "# Set it to None to display all columns in the dataframe\n",
    "pd.set_option('display.max_columns', None)"
   ]
  },
  {
   "cell_type": "code",
   "execution_count": null,
   "id": "470e5b4c",
   "metadata": {},
   "outputs": [],
   "source": []
  },
  {
   "cell_type": "code",
   "execution_count": 3,
   "id": "5bd88ac7",
   "metadata": {},
   "outputs": [
    {
     "name": "stdout",
     "output_type": "stream",
     "text": [
      "<class 'pandas.core.frame.DataFrame'>\n",
      "RangeIndex: 2983 entries, 0 to 2982\n",
      "Data columns (total 27 columns):\n",
      " #   Column                  Non-Null Count  Dtype  \n",
      "---  ------                  --------------  -----  \n",
      " 0   İlan_Numarası           2983 non-null   int64  \n",
      " 1   İlan_Güncelleme_Tarihi  2983 non-null   object \n",
      " 2   Kategorisi              2983 non-null   object \n",
      " 3   Brüt_Metrekare          2983 non-null   int64  \n",
      " 4   Binanın_Yaşı            2983 non-null   object \n",
      " 5   Binanın_Kat_Sayısı      2983 non-null   int64  \n",
      " 6   Kullanım_Durumu         2983 non-null   object \n",
      " 7   Yatırıma_Uygunluk       2983 non-null   object \n",
      " 8   Eşya_Durumu             2983 non-null   object \n",
      " 9   Banyo_Sayısı            2983 non-null   object \n",
      " 10  İlan_Oluşturma_Tarihi   2983 non-null   object \n",
      " 11  Türü                    2983 non-null   object \n",
      " 12  Net_Metrekare           2983 non-null   int64  \n",
      " 13  Oda_Sayısı              2983 non-null   object \n",
      " 14  Bulunduğu_Kat           2983 non-null   object \n",
      " 15  Isıtma_Tipi             2983 non-null   object \n",
      " 16  Krediye_Uygunluk        2983 non-null   object \n",
      " 17  Site_İçerisinde         2983 non-null   object \n",
      " 18  Takas                   2983 non-null   object \n",
      " 19  Fiyat_Durumu            2983 non-null   object \n",
      " 20  Fiyatı                  2983 non-null   int64  \n",
      " 21  İl                      2983 non-null   object \n",
      " 22  İlçe                    2983 non-null   object \n",
      " 23  Mahalle                 2983 non-null   object \n",
      " 24  yaka                    2983 non-null   object \n",
      " 25  Yaşam_endeksi           2983 non-null   float64\n",
      " 26  Nüfus                   2983 non-null   float64\n",
      "dtypes: float64(2), int64(5), object(20)\n",
      "memory usage: 629.4+ KB\n"
     ]
    }
   ],
   "source": [
    "df = pd.read_csv(\"emlakjet_ist.csv\")\n",
    "df.info()"
   ]
  },
  {
   "cell_type": "code",
   "execution_count": null,
   "id": "1bb63d06",
   "metadata": {},
   "outputs": [],
   "source": []
  }
 ],
 "metadata": {
  "kernelspec": {
   "display_name": "Python 3 (ipykernel)",
   "language": "python",
   "name": "python3"
  },
  "language_info": {
   "codemirror_mode": {
    "name": "ipython",
    "version": 3
   },
   "file_extension": ".py",
   "mimetype": "text/x-python",
   "name": "python",
   "nbconvert_exporter": "python",
   "pygments_lexer": "ipython3",
   "version": "3.9.13"
  }
 },
 "nbformat": 4,
 "nbformat_minor": 5
}
