{
 "cells": [
  {
   "cell_type": "code",
   "execution_count": 2,
   "id": "41f137b9",
   "metadata": {},
   "outputs": [],
   "source": [
    "import numpy as np\n",
    "import pandas as pd\n",
    "import matplotlib.pyplot as plt\n",
    "import seaborn as sns\n",
    "\n",
    "import warnings\n",
    "warnings.filterwarnings(\"ignore\")\n",
    "warnings.warn(\"this will not show\")\n",
    "\n",
    "plt.rcParams[\"figure.figsize\"] = (10,6)\n",
    "\n",
    "sns.set_style(\"whitegrid\")\n",
    "pd.set_option('display.float_format', lambda x: '%.3f' % x)\n",
    "\n",
    "# Set it None to display all rows in the dataframe\n",
    "# pd.set_option('display.max_rows', None)\n",
    "\n",
    "# Set it to None to display all columns in the dataframe\n",
    "pd.set_option('display.max_columns', None)"
   ]
  },
  {
   "cell_type": "code",
   "execution_count": null,
   "id": "470e5b4c",
   "metadata": {},
   "outputs": [],
   "source": []
  },
  {
   "cell_type": "code",
   "execution_count": 6,
   "id": "5bd88ac7",
   "metadata": {},
   "outputs": [
    {
     "name": "stdout",
     "output_type": "stream",
     "text": [
      "<class 'pandas.core.frame.DataFrame'>\n",
      "RangeIndex: 100 entries, 0 to 99\n",
      "Data columns (total 21 columns):\n",
      " #   Column         Non-Null Count  Dtype  \n",
      "---  ------         --------------  -----  \n",
      " 0   id             100 non-null    int64  \n",
      " 1   date           100 non-null    object \n",
      " 2   zipcode        100 non-null    int64  \n",
      " 3   bedrooms       100 non-null    int64  \n",
      " 4   bathrooms      100 non-null    float64\n",
      " 5   sqft_living    100 non-null    int64  \n",
      " 6   sqft_lot       100 non-null    int64  \n",
      " 7   floors         100 non-null    float64\n",
      " 8   waterfront     100 non-null    int64  \n",
      " 9   view           100 non-null    int64  \n",
      " 10  condition      100 non-null    int64  \n",
      " 11  grade          100 non-null    int64  \n",
      " 12  sqft_above     100 non-null    int64  \n",
      " 13  sqft_basement  100 non-null    int64  \n",
      " 14  yr_built       100 non-null    int64  \n",
      " 15  yr_renovated   100 non-null    int64  \n",
      " 16  lat            100 non-null    float64\n",
      " 17  long           100 non-null    float64\n",
      " 18  sqft_living15  100 non-null    int64  \n",
      " 19  sqft_lot15     100 non-null    int64  \n",
      " 20  price          100 non-null    int64  \n",
      "dtypes: float64(4), int64(16), object(1)\n",
      "memory usage: 16.5+ KB\n"
     ]
    }
   ],
   "source": [
    "df = pd.read_csv(\"veriler.csv\")\n",
    "df.info()"
   ]
  },
  {
   "cell_type": "code",
   "execution_count": 5,
   "id": "1bb63d06",
   "metadata": {},
   "outputs": [],
   "source": [
    "import pandas as pd\n",
    "import numpy as np\n",
    "\n",
    "# Verilerin özelliklerini belirle\n",
    "n = 100\n",
    "date_range = pd.date_range(start='2022-01-01', periods=n, freq='D')\n",
    "zipcode_range = np.random.randint(low=10000, high=10200, size=n)\n",
    "bedrooms_range = np.random.randint(low=1, high=6, size=n)\n",
    "bathrooms_range = np.random.uniform(low=1.0, high=5.0, size=n)\n",
    "sqft_living_range = np.random.randint(low=500, high=5000, size=n)\n",
    "sqft_lot_range = np.random.randint(low=500, high=20000, size=n)\n",
    "floors_range = np.random.choice([1, 1.5, 2, 2.5, 3], size=n)\n",
    "waterfront_range = np.random.randint(low=0, high=2, size=n)\n",
    "view_range = np.random.randint(low=0, high=5, size=n)\n",
    "condition_range = np.random.randint(low=1, high=6, size=n)\n",
    "grade_range = np.random.randint(low=1, high=14, size=n)\n",
    "sqft_above_range = np.random.randint(low=400, high=4000, size=n)\n",
    "sqft_basement_range = np.random.randint(low=0, high=2000, size=n)\n",
    "yr_built_range = np.random.randint(low=1920, high=2023, size=n)\n",
    "yr_renovated_range = np.random.randint(low=0, high=2, size=n)\n",
    "lat_range = np.random.uniform(low=39.9, high=40.2, size=n)\n",
    "long_range = np.random.uniform(low=28.8, high=29.2, size=n)\n",
    "sqft_living15_range = np.random.randint(low=500, high=5000, size=n)\n",
    "sqft_lot15_range = np.random.randint(low=500, high=20000, size=n)\n",
    "price_range = np.random.randint(low=50000, high=1000000, size=n)\n",
    "\n",
    "# Verileri DataFrame'e aktar\n",
    "veriler = pd.DataFrame({\n",
    "    'id': range(1, n+1),\n",
    "    'date': date_range,\n",
    "    'zipcode': zipcode_range,\n",
    "    'bedrooms': bedrooms_range,\n",
    "    'bathrooms': bathrooms_range,\n",
    "    'sqft_living': sqft_living_range,\n",
    "    'sqft_lot': sqft_lot_range,\n",
    "    'floors': floors_range,\n",
    "    'waterfront': waterfront_range,\n",
    "    'view': view_range,\n",
    "    'condition': condition_range,\n",
    "    'grade': grade_range,\n",
    "    'sqft_above': sqft_above_range,\n",
    "    'sqft_basement': sqft_basement_range,\n",
    "    'yr_built': yr_built_range,\n",
    "    'yr_renovated': yr_renovated_range,\n",
    "    'lat': lat_range,\n",
    "    'long': long_range,\n",
    "    'sqft_living15': sqft_living15_range,\n",
    "    'sqft_lot15': sqft_lot15_range,\n",
    "    'price': price_range\n",
    "    })\n",
    "\n",
    "# Verileri CSV dosyasına yazdır\n",
    "veriler.to_csv('veriler.csv', index=False)\n",
    "\n"
   ]
  },
  {
   "cell_type": "code",
   "execution_count": null,
   "id": "16b52a11",
   "metadata": {},
   "outputs": [],
   "source": []
  }
 ],
 "metadata": {
  "kernelspec": {
   "display_name": "Python 3 (ipykernel)",
   "language": "python",
   "name": "python3"
  },
  "language_info": {
   "codemirror_mode": {
    "name": "ipython",
    "version": 3
   },
   "file_extension": ".py",
   "mimetype": "text/x-python",
   "name": "python",
   "nbconvert_exporter": "python",
   "pygments_lexer": "ipython3",
   "version": "3.9.13"
  }
 },
 "nbformat": 4,
 "nbformat_minor": 5
}
